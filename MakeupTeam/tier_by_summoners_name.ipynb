{
 "cells": [
  {
   "cell_type": "code",
   "execution_count": null,
   "metadata": {},
   "outputs": [],
   "source": [
    "## 언랭이나 배치 덜치면 None 반환"
   ]
  },
  {
   "cell_type": "code",
   "execution_count": 4,
   "metadata": {},
   "outputs": [],
   "source": [
    "import requests"
   ]
  },
  {
   "cell_type": "code",
   "execution_count": 96,
   "metadata": {},
   "outputs": [],
   "source": [
    "def summoners_tier(summoners_name):\n",
    "    api_key = 'RGAPI-d0ded8fd-8c25-4f4d-9dd8-7ca9af1ccc49'\n",
    "    #summoners_name='자신감하락중'\n",
    "    get_id = \"https://kr.api.riotgames.com/lol/summoner/v4/summoners/by-name/\" +summoners_name+'?api_key=' + api_key\n",
    "    r = requests.get(get_id)\n",
    "    summoners_id=r.json()['id'] #소환사의 고유 id\n",
    "    tier_url = \"https://kr.api.riotgames.com/lol/league/v4/entries/by-summoner/\" + summoners_id +'?api_key=' + api_key\n",
    "    r2  = requests.get(tier_url)\n",
    "    if not r2.json():\n",
    "        return None\n",
    "    for i in range(len(r2.json())):\n",
    "        if r2.json()[i]['queueType']=='RANKED_SOLO_5x5':\n",
    "            return (r2.json()[i]['tier'] , rome_to_ara(r2.json()[i]['rank']), r2.json()[i]['leaguePoints'])\n",
    "    return None\n",
    "    "
   ]
  },
  {
   "cell_type": "code",
   "execution_count": 93,
   "metadata": {},
   "outputs": [],
   "source": [
    "def rome_to_ara(num):\n",
    "    if num=='I':\n",
    "        return 1\n",
    "    elif num=='II':\n",
    "        return 2\n",
    "    elif num=='III':\n",
    "        return 3\n",
    "    else:\n",
    "        return 4"
   ]
  },
  {
   "cell_type": "code",
   "execution_count": 98,
   "metadata": {},
   "outputs": [
    {
     "data": {
      "text/plain": [
       "('MASTER', 1, 56)"
      ]
     },
     "execution_count": 98,
     "metadata": {},
     "output_type": "execute_result"
    }
   ],
   "source": [
    "summoners_tier('hide on bush')"
   ]
  },
  {
   "cell_type": "code",
   "execution_count": 88,
   "metadata": {},
   "outputs": [],
   "source": [
    "api_key = 'RGAPI-d0ded8fd-8c25-4f4d-9dd8-7ca9af1ccc49'\n",
    "summoners_name='뿅뿅태'\n",
    "sohwan = \"https://kr.api.riotgames.com/lol/summoner/v4/summoners/by-name/\" +summoners_name+'?api_key=' + api_key\n",
    "r = requests.get(sohwan)\n",
    "summoners_id=r.json()['id'] #소환사의 고유 id"
   ]
  },
  {
   "cell_type": "code",
   "execution_count": 89,
   "metadata": {
    "scrolled": false
   },
   "outputs": [
    {
     "data": {
      "text/plain": [
       "[{'leagueId': 'dff739a1-228a-454b-83e0-6527b575f4f2',\n",
       "  'queueType': 'RANKED_FLEX_SR',\n",
       "  'tier': 'SILVER',\n",
       "  'rank': 'I',\n",
       "  'summonerId': 'XeuvDiZ7gSSaqY2Y1N2NfOffd3fKOw806nfuVd_ugHRGcw',\n",
       "  'summonerName': '뿅뿅태',\n",
       "  'leaguePoints': 58,\n",
       "  'wins': 10,\n",
       "  'losses': 7,\n",
       "  'veteran': False,\n",
       "  'inactive': False,\n",
       "  'freshBlood': False,\n",
       "  'hotStreak': True}]"
      ]
     },
     "execution_count": 89,
     "metadata": {},
     "output_type": "execute_result"
    }
   ],
   "source": [
    "tier_url = \"https://kr.api.riotgames.com/lol/league/v4/entries/by-summoner/\" + summoners_id +'?api_key=' + api_key\n",
    "r2  = requests.get(tier_url)\n",
    "r2.json()"
   ]
  },
  {
   "cell_type": "code",
   "execution_count": 91,
   "metadata": {},
   "outputs": [
    {
     "data": {
      "text/plain": [
       "1"
      ]
     },
     "execution_count": 91,
     "metadata": {},
     "output_type": "execute_result"
    }
   ],
   "source": [
    "len(r2.json())"
   ]
  },
  {
   "cell_type": "code",
   "execution_count": 73,
   "metadata": {},
   "outputs": [
    {
     "data": {
      "text/plain": [
       "'RANKED_SOLO_5x5'"
      ]
     },
     "execution_count": 73,
     "metadata": {},
     "output_type": "execute_result"
    }
   ],
   "source": [
    "r2.json()[0]['queueType']"
   ]
  }
 ],
 "metadata": {
  "kernelspec": {
   "display_name": "Python 3",
   "language": "python",
   "name": "python3"
  },
  "language_info": {
   "codemirror_mode": {
    "name": "ipython",
    "version": 3
   },
   "file_extension": ".py",
   "mimetype": "text/x-python",
   "name": "python",
   "nbconvert_exporter": "python",
   "pygments_lexer": "ipython3",
   "version": "3.6.8"
  }
 },
 "nbformat": 4,
 "nbformat_minor": 2
}
